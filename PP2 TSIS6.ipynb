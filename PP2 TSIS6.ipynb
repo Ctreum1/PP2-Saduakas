{
 "cells": [
  {
   "cell_type": "code",
   "execution_count": 2,
   "id": "e06fc36a",
   "metadata": {},
   "outputs": [
    {
     "name": "stdout",
     "output_type": "stream",
     "text": [
      "2 4 5 6\n",
      "240\n"
     ]
    }
   ],
   "source": [
    "import math\n",
    "a = list(map(int, input().split()))\n",
    "b = math.prod(a)\n",
    "print(b)"
   ]
  },
  {
   "cell_type": "code",
   "execution_count": 4,
   "id": "1f6e8dec",
   "metadata": {},
   "outputs": [
    {
     "name": "stdout",
     "output_type": "stream",
     "text": [
      "Yesset\n",
      "1\n",
      "5\n"
     ]
    }
   ],
   "source": [
    "s = input()\n",
    "lower = sum(map(str.islower, s))\n",
    "upper = sum(map(str.isupper, s))\n",
    "print(upper)\n",
    "print(lower)"
   ]
  },
  {
   "cell_type": "code",
   "execution_count": 6,
   "id": "bf534a00",
   "metadata": {},
   "outputs": [
    {
     "name": "stdout",
     "output_type": "stream",
     "text": [
      "racecar\n",
      "True\n"
     ]
    }
   ],
   "source": [
    "def is_palindrome(string):\n",
    "    return string == string[::-1]\n",
    "print(is_palindrome(input()))"
   ]
  },
  {
   "cell_type": "code",
   "execution_count": 7,
   "id": "fc72d469",
   "metadata": {},
   "outputs": [
    {
     "name": "stdout",
     "output_type": "stream",
     "text": [
      "Enter a number: 25100\n",
      "Enter milliseconds: 2325\n",
      "Square root of 25100 after 2325 miliseconds is 158.42979517754858\n"
     ]
    }
   ],
   "source": [
    "import time\n",
    "num = int(input(\"Enter a number: \"))\n",
    "milliseconds = int(input(\"Enter milliseconds: \"))\n",
    "time.sleep(milliseconds/1000)\n",
    "print(f\"Square root of {num} after {milliseconds} miliseconds is {num ** 0.5}\")"
   ]
  },
  {
   "cell_type": "code",
   "execution_count": 8,
   "id": "0181a7b9",
   "metadata": {},
   "outputs": [
    {
     "name": "stdout",
     "output_type": "stream",
     "text": [
      "0 1 1\n",
      "False\n"
     ]
    }
   ],
   "source": [
    "a = tuple(map(int, input().split()))\n",
    "print(all(a))"
   ]
  },
  {
   "cell_type": "markdown",
   "id": "04dad5c4",
   "metadata": {},
   "source": [
    "PYTHON DIRECTORIES AND FILES\n"
   ]
  },
  {
   "cell_type": "code",
   "execution_count": 14,
   "id": "5d2d2984",
   "metadata": {},
   "outputs": [
    {
     "name": "stdout",
     "output_type": "stream",
     "text": [
      "Files:\n",
      "['PP2 TSIS1.ipynb', 'PP2 TSIS2.ipynb', 'PP2 TSIS3.ipynb', 'PP2 TSIS4.ipynb', 'PP2 TSIS5.ipynb', 'PP2 TSIS6.ipynb']\n",
      "Directory:\n",
      "['.ipynb_checkpoints']\n",
      "All directories, files:\n",
      "['.ipynb_checkpoints', 'PP2 TSIS1.ipynb', 'PP2 TSIS2.ipynb', 'PP2 TSIS3.ipynb', 'PP2 TSIS4.ipynb', 'PP2 TSIS5.ipynb', 'PP2 TSIS6.ipynb']\n"
     ]
    }
   ],
   "source": [
    "import os\n",
    "path = \"C:\\\\Users\\\\user\\\\Desktop\\\\Anaconda\\\\\"\n",
    "files = [f for f in os.listdir(path) if os.path.isfile(os.path.join(path, f))]\n",
    "dirs = [d for d in os.listdir(path) if os.path.isdir(os.path.join(path, d))]\n",
    "both = [x for x in os.listdir(path)]\n",
    "print(\"Files:\")\n",
    "print(files)\n",
    "print(\"Directory:\")\n",
    "print(dirs)\n",
    "print(\"All directories, files:\")\n",
    "print(both)"
   ]
  },
  {
   "cell_type": "code",
   "execution_count": 15,
   "id": "bab91469",
   "metadata": {},
   "outputs": [
    {
     "name": "stdout",
     "output_type": "stream",
     "text": [
      "Exist: True\n",
      "Readable: True\n",
      "Writable: True\n",
      "Executable: True\n"
     ]
    }
   ],
   "source": [
    "import os\n",
    "print('Exist:', os.access('C:\\\\Users\\\\user\\\\Desktop\\\\Anaconda\\\\', os.F_OK))\n",
    "print('Readable:', os.access('C:\\\\Users\\\\user\\\\Desktop\\\\Anaconda\\\\', os.R_OK))\n",
    "print('Writable:', os.access('C:\\\\Users\\\\user\\\\Desktop\\\\Anaconda\\\\', os.W_OK))\n",
    "print('Executable:', os.access('C:\\\\Users\\\\user\\\\Desktop\\\\Anaconda\\\\', os.X_OK))"
   ]
  },
  {
   "cell_type": "code",
   "execution_count": 22,
   "id": "eec8e0bc",
   "metadata": {},
   "outputs": [
    {
     "name": "stdout",
     "output_type": "stream",
     "text": [
      "Path exists\n",
      "Filename: \n",
      "Directory: C:\\Users\\user\\Desktop\\Anaconda\\TSIS6\n"
     ]
    }
   ],
   "source": [
    "import os\n",
    "path = \"C:\\\\Users\\\\user\\\\Desktop\\\\Anaconda\\\\TSIS6\\\\\"\n",
    "if os.path.exists(path):\n",
    "    print(\"Path exists\")\n",
    "    filename = os.path.basename(path)\n",
    "    directory = os.path.dirname(path)\n",
    "    print(\"Filename:\", filename)\n",
    "    print(\"Directory:\", directory)\n",
    "else:\n",
    "    print(\"Path does not exist.\")"
   ]
  },
  {
   "cell_type": "code",
   "execution_count": 20,
   "id": "765c111d",
   "metadata": {},
   "outputs": [
    {
     "name": "stdout",
     "output_type": "stream",
     "text": [
      "9\n"
     ]
    }
   ],
   "source": [
    "import os\n",
    "with open(\"test.txt\", \"r\") as f:\n",
    "    print(sum(1 for _ in f))"
   ]
  },
  {
   "cell_type": "code",
   "execution_count": 23,
   "id": "e8f7ffbe",
   "metadata": {},
   "outputs": [
    {
     "name": "stdout",
     "output_type": "stream",
     "text": [
      "123\n",
      "23\n",
      "53\n",
      "23\n",
      "\n"
     ]
    }
   ],
   "source": [
    "import os\n",
    "lista = [123, 23, 53, 23]\n",
    "with open('text.txt', 'w') as f:\n",
    "  for i in lista:\n",
    "    f.write('%s\\n' % i)\n",
    "content = open('text.txt')\n",
    "print(content.read())"
   ]
  },
  {
   "cell_type": "code",
   "execution_count": 25,
   "id": "7fc37adb",
   "metadata": {},
   "outputs": [],
   "source": [
    "import os\n",
    "list1 = ['A','B','C','D','E','F','G','H','I','J','K','L','M','N','O','P','Q','R','S','T','U','V','W','X','Y','Z']\n",
    "for i in list1:\n",
    "    files = f\"{i}.txt\"\n",
    "    with open(files, \"w\") as file:\n",
    "        file.write('a')"
   ]
  },
  {
   "cell_type": "code",
   "execution_count": 3,
   "id": "4b0dd680",
   "metadata": {},
   "outputs": [],
   "source": [
    "import os\n",
    "input_file_path = \"test.txt\"\n",
    "output_file_path = \"text.txt\"\n",
    "with open(input_file_path, \"r\") as input_file:\n",
    "    file_contents = input_file.read()\n",
    "\n",
    "with open(output_file_path, \"w\") as output_file:\n",
    "    output_file.write(file_contents)"
   ]
  },
  {
   "cell_type": "code",
   "execution_count": 5,
   "id": "c9dd279c",
   "metadata": {},
   "outputs": [
    {
     "name": "stdout",
     "output_type": "stream",
     "text": [
      "A.txt deleted successfully.\n"
     ]
    }
   ],
   "source": [
    "import os\n",
    "file_path = \"A.txt\"\n",
    "if os.path.exists(file_path):\n",
    "    if os.access(file_path, os.W_OK):\n",
    "        os.remove(file_path)\n",
    "        print(f\"{file_path} deleted successfully.\")\n",
    "    else:\n",
    "        print(f\"You don't have permission to delete {file_path}.\")\n",
    "else:\n",
    "    print(f\"{file_path} does not exist.\")"
   ]
  },
  {
   "cell_type": "code",
   "execution_count": null,
   "id": "e315951c",
   "metadata": {},
   "outputs": [],
   "source": []
  }
 ],
 "metadata": {
  "kernelspec": {
   "display_name": "Python 3 (ipykernel)",
   "language": "python",
   "name": "python3"
  },
  "language_info": {
   "codemirror_mode": {
    "name": "ipython",
    "version": 3
   },
   "file_extension": ".py",
   "mimetype": "text/x-python",
   "name": "python",
   "nbconvert_exporter": "python",
   "pygments_lexer": "ipython3",
   "version": "3.9.13"
  }
 },
 "nbformat": 4,
 "nbformat_minor": 5
}
