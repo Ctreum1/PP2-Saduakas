{
 "cells": [
  {
   "cell_type": "markdown",
   "id": "1f1f6bab",
   "metadata": {},
   "source": [
    "Date"
   ]
  },
  {
   "cell_type": "code",
   "execution_count": 7,
   "id": "ac881329",
   "metadata": {},
   "outputs": [
    {
     "name": "stdout",
     "output_type": "stream",
     "text": [
      "2023-02-18\n"
     ]
    }
   ],
   "source": [
    "import datetime\n",
    "def fiveDaysAgo():\n",
    "    fiveDays = datetime.date.today() - datetime.timedelta(days = 5)\n",
    "    return fiveDays\n",
    "print(fiveDaysAgo())"
   ]
  },
  {
   "cell_type": "code",
   "execution_count": 25,
   "id": "4365c312",
   "metadata": {},
   "outputs": [
    {
     "name": "stdout",
     "output_type": "stream",
     "text": [
      "Yesterday: 2023-02-22\n",
      "Today: 2023-02-23\n",
      "Tomorrow: 2023-02-24\n"
     ]
    }
   ],
   "source": [
    "import datetime\n",
    "def Yesterday_Today_Tomorrow():\n",
    "    yesterday = datetime.date.today() - datetime.timedelta(days = 1)\n",
    "    tomorrow = datetime.date.today() + datetime.timedelta(days = 1)\n",
    "    today = datetime.date.today()\n",
    "    return f\"Yesterday: {yesterday}\\nToday: {today}\\nTomorrow: {tomorrow}\"\n",
    "print(Yesterday_Today_Tomorrow())"
   ]
  },
  {
   "cell_type": "code",
   "execution_count": 26,
   "id": "013b3a0c",
   "metadata": {},
   "outputs": [
    {
     "name": "stdout",
     "output_type": "stream",
     "text": [
      "2023-02-23 15:59:04\n"
     ]
    }
   ],
   "source": [
    "import datetime\n",
    "def MicroSeconds():\n",
    "    today = datetime.datetime.now()\n",
    "    today = str(today)\n",
    "    dateWithoutMseconds = today.split(\".\")\n",
    "    return dateWithoutMseconds[0]\n",
    "print(MicroSeconds())"
   ]
  },
  {
   "cell_type": "code",
   "execution_count": 23,
   "id": "44c41a2e",
   "metadata": {},
   "outputs": [
    {
     "name": "stdout",
     "output_type": "stream",
     "text": [
      "1641600.0\n"
     ]
    }
   ],
   "source": [
    "import datetime\n",
    "def diff():\n",
    "    dt1 = datetime.datetime.now()\n",
    "    dt2 = datetime.datetime.now() - datetime.timedelta(days = 19)\n",
    "    delta = dt1 - dt2\n",
    "    return delta.total_seconds()\n",
    "print(diff())"
   ]
  },
  {
   "cell_type": "markdown",
   "id": "89340508",
   "metadata": {},
   "source": [
    "Math"
   ]
  },
  {
   "cell_type": "code",
   "execution_count": 27,
   "id": "5691e478",
   "metadata": {},
   "outputs": [
    {
     "name": "stdout",
     "output_type": "stream",
     "text": [
      "60\n",
      "1.0471975511965976\n"
     ]
    }
   ],
   "source": [
    "import math\n",
    "def convert(degree):\n",
    "    radian = degree * (math.pi / 180)\n",
    "    return radian\n",
    "print(convert(int(input())))"
   ]
  },
  {
   "cell_type": "code",
   "execution_count": 28,
   "id": "7e79894d",
   "metadata": {},
   "outputs": [
    {
     "name": "stdout",
     "output_type": "stream",
     "text": [
      "4 \n",
      "5\n",
      "6\n",
      "22.0\n"
     ]
    }
   ],
   "source": [
    "import math\n",
    "def area(height, first_base, second_base):\n",
    "    Area = (first_base + second_base) * height / 2\n",
    "    return Area\n",
    "height = int(input())\n",
    "first_base = int(input())\n",
    "second_base = int(input())\n",
    "print(area(height, first_base, second_base))"
   ]
  },
  {
   "cell_type": "code",
   "execution_count": 30,
   "id": "70fa07b9",
   "metadata": {},
   "outputs": [
    {
     "name": "stdout",
     "output_type": "stream",
     "text": [
      "5\n",
      "6\n",
      "30.0\n"
     ]
    }
   ],
   "source": [
    "import math\n",
    "def area(lenght, height):\n",
    "    Area = lenght * height\n",
    "    return float(Area)\n",
    "print(area(int(input()), int(input())))"
   ]
  },
  {
   "cell_type": "code",
   "execution_count": 33,
   "id": "395c9fcc",
   "metadata": {},
   "outputs": [
    {
     "name": "stdout",
     "output_type": "stream",
     "text": [
      "4\n",
      "25\n",
      "The area of the polygon is: 625\n"
     ]
    }
   ],
   "source": [
    "import math\n",
    "def polygonArea():\n",
    "    n = int(input())\n",
    "    length = int(input())\n",
    "    area = (n * length**2) / (4 * math.tan(math.pi/n))\n",
    "    return f\"The area of the polygon is: {round(area)}\"\n",
    "print(polygonArea())"
   ]
  },
  {
   "cell_type": "markdown",
   "id": "41da27f4",
   "metadata": {},
   "source": [
    "Generators"
   ]
  },
  {
   "cell_type": "code",
   "execution_count": 35,
   "id": "6c6a08f4",
   "metadata": {},
   "outputs": [
    {
     "name": "stdout",
     "output_type": "stream",
     "text": [
      "5\n",
      "0\n",
      "1\n",
      "4\n",
      "9\n",
      "16\n",
      "None\n"
     ]
    }
   ],
   "source": [
    "def squares():\n",
    "    n=int(input())\n",
    "    a=(int(i)**2 for i in range(0,n))\n",
    "    for i in range(n):\n",
    "        print(next(a))\n",
    "print(squares())"
   ]
  },
  {
   "cell_type": "code",
   "execution_count": 39,
   "id": "48f739d4",
   "metadata": {},
   "outputs": [
    {
     "name": "stdout",
     "output_type": "stream",
     "text": [
      "9\n",
      "0, 2, 4, 6, 8\n",
      "None\n"
     ]
    }
   ],
   "source": [
    "def evens():\n",
    "    n=int(input())\n",
    "    a=(int(i) for i in range(0, n+1, 2))\n",
    "    for i in range(int(n/2)):\n",
    "        print(next(a), end = \", \")\n",
    "    print(next(a))\n",
    "print(evens())"
   ]
  },
  {
   "cell_type": "code",
   "execution_count": 40,
   "id": "cee56a9d",
   "metadata": {},
   "outputs": [
    {
     "name": "stdout",
     "output_type": "stream",
     "text": [
      "24\n",
      "0\n",
      "12\n",
      "None\n"
     ]
    }
   ],
   "source": [
    "def divisibility():\n",
    "    n = int(input())\n",
    "    x = lambda x : x if (x % 3 == 0 and x % 4 == 0) or x == 0 else \"o\"\n",
    "    a = (x(i) for i in range(0, n))\n",
    "    for i in range(n):\n",
    "        y = next(a)\n",
    "        if(y != \"o\"):\n",
    "            print(y)\n",
    "print(divisibility())"
   ]
  },
  {
   "cell_type": "code",
   "execution_count": 44,
   "id": "f5d7468c",
   "metadata": {},
   "outputs": [
    {
     "name": "stdout",
     "output_type": "stream",
     "text": [
      "16\n",
      "25\n",
      "256\n",
      "289\n",
      "324\n",
      "361\n",
      "400\n",
      "441\n",
      "484\n",
      "529\n",
      "576\n",
      "625\n",
      "None\n"
     ]
    }
   ],
   "source": [
    "def squaresFromAtoB():\n",
    "    a = int(input())\n",
    "    b = int(input())\n",
    "    gen = (int(i)**2 for i in range(a, b + 1))\n",
    "    for i in range((b-a) + 1):\n",
    "        print(next(gen))\n",
    "print(squaresFromAtoB())"
   ]
  },
  {
   "cell_type": "code",
   "execution_count": 47,
   "id": "ca4622b3",
   "metadata": {},
   "outputs": [
    {
     "name": "stdout",
     "output_type": "stream",
     "text": [
      "6\n",
      "6\n",
      "5\n",
      "4\n",
      "3\n",
      "2\n",
      "1\n",
      "None\n"
     ]
    }
   ],
   "source": [
    "def decreasing():\n",
    "    n = int(input())\n",
    "    a = (i for i in range(n, 0, -1))\n",
    "    for i in range(n):\n",
    "        print(next(a))\n",
    "print(decreasing())"
   ]
  },
  {
   "cell_type": "code",
   "execution_count": null,
   "id": "8926a91d",
   "metadata": {},
   "outputs": [],
   "source": []
  }
 ],
 "metadata": {
  "kernelspec": {
   "display_name": "Python 3 (ipykernel)",
   "language": "python",
   "name": "python3"
  },
  "language_info": {
   "codemirror_mode": {
    "name": "ipython",
    "version": 3
   },
   "file_extension": ".py",
   "mimetype": "text/x-python",
   "name": "python",
   "nbconvert_exporter": "python",
   "pygments_lexer": "ipython3",
   "version": "3.9.13"
  }
 },
 "nbformat": 4,
 "nbformat_minor": 5
}
