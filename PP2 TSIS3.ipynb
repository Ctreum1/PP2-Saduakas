{
 "cells": [
  {
   "cell_type": "code",
   "execution_count": 1,
   "id": "ad7a9c46",
   "metadata": {},
   "outputs": [],
   "source": [
    "#PYTHON Functions ex1\n",
    "def my_function():\n",
    "  print(\"Hello from a function\")"
   ]
  },
  {
   "cell_type": "code",
   "execution_count": 2,
   "id": "5e3d563f",
   "metadata": {},
   "outputs": [
    {
     "name": "stdout",
     "output_type": "stream",
     "text": [
      "Hello from a function\n"
     ]
    }
   ],
   "source": [
    "#PYTHON Functions ex2\n",
    "def my_function():\n",
    "  print(\"Hello from a function\")\n",
    "my_function()"
   ]
  },
  {
   "cell_type": "code",
   "execution_count": 3,
   "id": "aa093b10",
   "metadata": {},
   "outputs": [],
   "source": [
    "#PYTHON Functions ex3\n",
    "def my_function(fname, lname):\n",
    "  print(fname)"
   ]
  },
  {
   "cell_type": "code",
   "execution_count": 4,
   "id": "c3affd2c",
   "metadata": {},
   "outputs": [],
   "source": [
    "#PYTHON Functions ex4\n",
    "def my_function(x):\n",
    "    return x + 5"
   ]
  },
  {
   "cell_type": "code",
   "execution_count": 5,
   "id": "bc9d3fa7",
   "metadata": {},
   "outputs": [],
   "source": [
    "#PYTHON Functions ex5\n",
    "def my_function(*kids):\n",
    "  print(\"The youngest child is \" + kids[2])"
   ]
  },
  {
   "cell_type": "code",
   "execution_count": 6,
   "id": "e1bae050",
   "metadata": {},
   "outputs": [],
   "source": [
    "#PYTHON Functions ex6\n",
    "def my_function(**kid):\n",
    "  print(\"His last name is \" + kid[\"lname\"])"
   ]
  },
  {
   "cell_type": "code",
   "execution_count": 7,
   "id": "a20f3a20",
   "metadata": {},
   "outputs": [],
   "source": [
    "#PYTHON Lambda ex1\n",
    "x = lambda a : a"
   ]
  },
  {
   "cell_type": "code",
   "execution_count": 8,
   "id": "602e87f2",
   "metadata": {},
   "outputs": [],
   "source": [
    "#PYTHON Classes ex1\n",
    "class MyClass:\n",
    "    x = 5"
   ]
  },
  {
   "cell_type": "code",
   "execution_count": 9,
   "id": "4204161f",
   "metadata": {},
   "outputs": [],
   "source": [
    "#PYTHON Classes ex2\n",
    "class MyClass:\n",
    "    x = 5\n",
    "p1 = MyClass()"
   ]
  },
  {
   "cell_type": "code",
   "execution_count": 10,
   "id": "fa91596d",
   "metadata": {},
   "outputs": [
    {
     "name": "stdout",
     "output_type": "stream",
     "text": [
      "5\n"
     ]
    }
   ],
   "source": [
    "#PYTHON Classes ex3\n",
    "class MyClass:\n",
    "    x = 5\n",
    "p1 = MyClass()\n",
    "print(p1.x)"
   ]
  },
  {
   "cell_type": "code",
   "execution_count": 11,
   "id": "6dd1c03d",
   "metadata": {},
   "outputs": [],
   "source": [
    "#PYTHON Classes ex4\n",
    "class Person:\n",
    "  def __init__(self, name, age):\n",
    "    self.name = name\n",
    "    self.age = age"
   ]
  },
  {
   "cell_type": "code",
   "execution_count": 12,
   "id": "f7a9e73e",
   "metadata": {},
   "outputs": [
    {
     "ename": "IndentationError",
     "evalue": "expected an indented block (101866674.py, line 2)",
     "output_type": "error",
     "traceback": [
      "\u001b[1;36m  File \u001b[1;32m\"C:\\Users\\user\\AppData\\Local\\Temp\\ipykernel_17916\\101866674.py\"\u001b[1;36m, line \u001b[1;32m2\u001b[0m\n\u001b[1;33m    class Student(Person):\u001b[0m\n\u001b[1;37m                          ^\u001b[0m\n\u001b[1;31mIndentationError\u001b[0m\u001b[1;31m:\u001b[0m expected an indented block\n"
     ]
    }
   ],
   "source": [
    "#PYTHON Inheritance ex1\n",
    "class Student(Person):"
   ]
  },
  {
   "cell_type": "code",
   "execution_count": 13,
   "id": "35102f19",
   "metadata": {},
   "outputs": [
    {
     "name": "stdout",
     "output_type": "stream",
     "text": [
      "Mike\n"
     ]
    }
   ],
   "source": [
    "#PYTHON Inheritance ex2\n",
    "class Person:\n",
    "  def __init__(self, fname):\n",
    "    self.firstname = fname\n",
    "  def printname(self):\n",
    "    print(self.firstname)\n",
    "class Student(Person):\n",
    "  pass\n",
    "x = Student(\"Mike\")\n",
    "x.printname()"
   ]
  },
  {
   "cell_type": "code",
   "execution_count": null,
   "id": "fd5d60db",
   "metadata": {},
   "outputs": [],
   "source": []
  }
 ],
 "metadata": {
  "kernelspec": {
   "display_name": "Python 3 (ipykernel)",
   "language": "python",
   "name": "python3"
  },
  "language_info": {
   "codemirror_mode": {
    "name": "ipython",
    "version": 3
   },
   "file_extension": ".py",
   "mimetype": "text/x-python",
   "name": "python",
   "nbconvert_exporter": "python",
   "pygments_lexer": "ipython3",
   "version": "3.9.13"
  }
 },
 "nbformat": 4,
 "nbformat_minor": 5
}
