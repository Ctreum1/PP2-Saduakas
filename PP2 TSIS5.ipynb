{
 "cells": [
  {
   "cell_type": "code",
   "execution_count": null,
   "id": "fefe3743",
   "metadata": {},
   "outputs": [],
   "source": [
    "#1\n",
    "import re\n",
    "txt = input(\"Enter a string: \")\n",
    "x = re.search(r'a(b*)', txt)\n",
    "if x:\n",
    "    print(\"Match found:\", x.group())\n",
    "else:\n",
    "    print(\"No match\")"
   ]
  },
  {
   "cell_type": "code",
   "execution_count": null,
   "id": "4094fed4",
   "metadata": {},
   "outputs": [],
   "source": [
    "#2\n",
    "import re\n",
    "txt = input(\"Enter a string: \")\n",
    "x = re.search(r'a(b){2,3}', txt)\n",
    "if x:\n",
    "    print(\"Match found:\", x.group())\n",
    "else:\n",
    "    print(\"No match\")"
   ]
  },
  {
   "cell_type": "code",
   "execution_count": null,
   "id": "4bde4a8c",
   "metadata": {},
   "outputs": [],
   "source": [
    "#3\n",
    "import re\n",
    "txt = input(\"Enter a string: \")\n",
    "x = re.findall(r'[a-z]+_[a-z]+', txt)\n",
    "if len(x) > 0:\n",
    "    print(\"Matches found:\")\n",
    "    for match in x:\n",
    "        print(match)\n",
    "else:\n",
    "    print(\"No match\")"
   ]
  },
  {
   "cell_type": "code",
   "execution_count": null,
   "id": "c8191155",
   "metadata": {},
   "outputs": [],
   "source": [
    "#4\n",
    "import re\n",
    "txt = input(\"Enter a string: \")\n",
    "x = re.findall(r'[A-Z][a-z]+', txt)\n",
    "if len(x) > 0:\n",
    "    print(\"Matches found:\")\n",
    "    for match in x:\n",
    "        print(match)\n",
    "else:\n",
    "    print(\"No match\")"
   ]
  },
  {
   "cell_type": "code",
   "execution_count": null,
   "id": "58c6555d",
   "metadata": {},
   "outputs": [],
   "source": [
    "#5\n",
    "import re\n",
    "txt = input(\"Enter a string: \")\n",
    "x = re.search(r'a.*b$', txt)\n",
    "if x:\n",
    "    print(\"Match found:\", x.group())\n",
    "else:\n",
    "    print(\"No match\")"
   ]
  },
  {
   "cell_type": "code",
   "execution_count": null,
   "id": "59eb6bd2",
   "metadata": {},
   "outputs": [],
   "source": [
    "#6\n",
    "import re\n",
    "txt = input(\"Enter a string: \")\n",
    "new_txt = re.sub(r'[ ,.]', \":\", txt)\n",
    "print(\"New string:\", new_txt)"
   ]
  },
  {
   "cell_type": "code",
   "execution_count": null,
   "id": "0495206c",
   "metadata": {},
   "outputs": [],
   "source": [
    "#7\n",
    "import re\n",
    "snake_case = input(\"Enter a snake case: \")\n",
    "camel_case = re.sub(r'_([a-z])', lambda match: match.group(1).upper(), snake_case)\n",
    "print(\"Camel case:\", camel_case)"
   ]
  },
  {
   "cell_type": "code",
   "execution_count": null,
   "id": "3f40d70a",
   "metadata": {},
   "outputs": [],
   "source": [
    "#8\n",
    "import re\n",
    "txt = input(\"Enter a string: \")\n",
    "split_txt = re.findall(r'[A-Z][a-z]*', txt)\n",
    "print(\"Split text:\", split_txt)"
   ]
  },
  {
   "cell_type": "code",
   "execution_count": null,
   "id": "85e0964a",
   "metadata": {},
   "outputs": [],
   "source": [
    "#9\n",
    "import re\n",
    "txt = input(\"Enter a string: \")\n",
    "new_txt = re.sub(r'([a-z])([A-Z])', r'\\1 \\2', txt)\n",
    "print(\"New string: \", new_txt)"
   ]
  },
  {
   "cell_type": "code",
   "execution_count": null,
   "id": "09832786",
   "metadata": {},
   "outputs": [],
   "source": [
    "#10\n",
    "import re\n",
    "txt = input(\"Enter a camel case: \")\n",
    "new_txt = re.sub('([A-Z])', r'_\\1', txt).lower().lstrip('_')\n",
    "print(\"Snake case: \", new_txt)"
   ]
  },
  {
   "cell_type": "code",
   "execution_count": null,
   "id": "7d8a1612",
   "metadata": {},
   "outputs": [],
   "source": []
  }
 ],
 "metadata": {
  "kernelspec": {
   "display_name": "Python 3 (ipykernel)",
   "language": "python",
   "name": "python3"
  },
  "language_info": {
   "codemirror_mode": {
    "name": "ipython",
    "version": 3
   },
   "file_extension": ".py",
   "mimetype": "text/x-python",
   "name": "python",
   "nbconvert_exporter": "python",
   "pygments_lexer": "ipython3",
   "version": "3.9.13"
  }
 },
 "nbformat": 4,
 "nbformat_minor": 5
}
